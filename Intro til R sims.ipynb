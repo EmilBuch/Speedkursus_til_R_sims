{
 "cells": [
  {
   "cell_type": "markdown",
   "id": "mature-defense",
   "metadata": {},
   "source": [
    "# Speedguide i R sims\n",
    "/Emil\n",
    "\n",
    "https://towardsdatascience.com/statistical-simulation-in-r-part-1-d9cb4dc393c9\n",
    "\n",
    "### Notebook hotkeys\n",
    "https://towardsdatascience.com/jypyter-notebook-shortcuts-bf0101a98330"
   ]
  },
  {
   "cell_type": "code",
   "execution_count": 132,
   "id": "breeding-rider",
   "metadata": {
    "scrolled": true
   },
   "outputs": [],
   "source": [
    "library(dplyr)\n",
    "library(ggplot2)"
   ]
  },
  {
   "cell_type": "markdown",
   "id": "tracked-remove",
   "metadata": {},
   "source": [
    "set.seed sørger for at vi generere \"de samme tilfældige værdier\" når vi køre koden igen. Til projektet skal vi ikke bruge seeds.\n",
    "\n",
    "runif(x, min=a, max=b) generates x number of values within the range between a and b.\n",
    "\n",
    "%>% skal læses som \"then\" eller \"then do\"\n"
   ]
  },
  {
   "cell_type": "code",
   "execution_count": 133,
   "id": "documented-algorithm",
   "metadata": {
    "scrolled": false
   },
   "outputs": [
    {
     "data": {
      "text/html": [
       "<ol class=list-inline>\n",
       "\t<li>3</li>\n",
       "\t<li>11</li>\n",
       "\t<li>9</li>\n",
       "\t<li>3</li>\n",
       "\t<li>14</li>\n",
       "\t<li>14</li>\n",
       "\t<li>2</li>\n",
       "\t<li>13</li>\n",
       "\t<li>7</li>\n",
       "\t<li>8</li>\n",
       "\t<li>8</li>\n",
       "\t<li>4</li>\n",
       "\t<li>11</li>\n",
       "\t<li>3</li>\n",
       "\t<li>6</li>\n",
       "\t<li>13</li>\n",
       "\t<li>15</li>\n",
       "\t<li>3</li>\n",
       "\t<li>7</li>\n",
       "\t<li>1</li>\n",
       "\t<li>10</li>\n",
       "\t<li>6</li>\n",
       "\t<li>13</li>\n",
       "\t<li>2</li>\n",
       "\t<li>5</li>\n",
       "\t<li>7</li>\n",
       "\t<li>2</li>\n",
       "\t<li>5</li>\n",
       "\t<li>14</li>\n",
       "\t<li>2</li>\n",
       "</ol>\n"
      ],
      "text/latex": [
       "\\begin{enumerate*}\n",
       "\\item 3\n",
       "\\item 11\n",
       "\\item 9\n",
       "\\item 3\n",
       "\\item 14\n",
       "\\item 14\n",
       "\\item 2\n",
       "\\item 13\n",
       "\\item 7\n",
       "\\item 8\n",
       "\\item 8\n",
       "\\item 4\n",
       "\\item 11\n",
       "\\item 3\n",
       "\\item 6\n",
       "\\item 13\n",
       "\\item 15\n",
       "\\item 3\n",
       "\\item 7\n",
       "\\item 1\n",
       "\\item 10\n",
       "\\item 6\n",
       "\\item 13\n",
       "\\item 2\n",
       "\\item 5\n",
       "\\item 7\n",
       "\\item 2\n",
       "\\item 5\n",
       "\\item 14\n",
       "\\item 2\n",
       "\\end{enumerate*}\n"
      ],
      "text/markdown": [
       "1. 3\n",
       "2. 11\n",
       "3. 9\n",
       "4. 3\n",
       "5. 14\n",
       "6. 14\n",
       "7. 2\n",
       "8. 13\n",
       "9. 7\n",
       "10. 8\n",
       "11. 8\n",
       "12. 4\n",
       "13. 11\n",
       "14. 3\n",
       "15. 6\n",
       "16. 13\n",
       "17. 15\n",
       "18. 3\n",
       "19. 7\n",
       "20. 1\n",
       "21. 10\n",
       "22. 6\n",
       "23. 13\n",
       "24. 2\n",
       "25. 5\n",
       "26. 7\n",
       "27. 2\n",
       "28. 5\n",
       "29. 14\n",
       "30. 2\n",
       "\n",
       "\n"
      ],
      "text/plain": [
       " [1]  3 11  9  3 14 14  2 13  7  8  8  4 11  3  6 13 15  3  7  1 10  6 13  2  5\n",
       "[26]  7  2  5 14  2"
      ]
     },
     "metadata": {},
     "output_type": "display_data"
    }
   ],
   "source": [
    "set.seed(2)\n",
    "runif(30,min=0,max=15) %>% \n",
    "  round(.,digits = 0)"
   ]
  },
  {
   "cell_type": "markdown",
   "id": "mathematical-singing",
   "metadata": {},
   "source": [
    "### Generere numre med sample\n",
    "sample(x, size, replace=TRUE, prob=NULL)\n",
    "\n",
    "x: a vector, or a positive integer\n",
    "\n",
    "size: a non-negative integer giving the number of items to choose\n",
    "\n",
    "replace: sample with replacement, or not? (deffault is FALSE)\n",
    "\n",
    "prob: a vector of probability weights for obtaining the elements of the vector being sampled\n",
    "\n",
    "documentation: https://www.rdocumentation.org/packages/base/versions/3.6.2/topics/sample"
   ]
  },
  {
   "cell_type": "markdown",
   "id": "representative-circuit",
   "metadata": {},
   "source": [
    "Normalt generer sample bare numre fra det interval man giver det. Ved at bruge replace=TRUE kan man trække de samme numre igen, dvs. at alle numre har samme sandsynlighed for at være et udfald, og kan derfor optræde flere gange i rækken."
   ]
  },
  {
   "cell_type": "code",
   "execution_count": 134,
   "id": "driving-engagement",
   "metadata": {
    "scrolled": true
   },
   "outputs": [
    {
     "data": {
      "text/html": [
       "<ol class=list-inline>\n",
       "\t<li>6</li>\n",
       "\t<li>9</li>\n",
       "\t<li>10</li>\n",
       "\t<li>5</li>\n",
       "\t<li>8</li>\n",
       "\t<li>3</li>\n",
       "\t<li>1</li>\n",
       "\t<li>7</li>\n",
       "</ol>\n"
      ],
      "text/latex": [
       "\\begin{enumerate*}\n",
       "\\item 6\n",
       "\\item 9\n",
       "\\item 10\n",
       "\\item 5\n",
       "\\item 8\n",
       "\\item 3\n",
       "\\item 1\n",
       "\\item 7\n",
       "\\end{enumerate*}\n"
      ],
      "text/markdown": [
       "1. 6\n",
       "2. 9\n",
       "3. 10\n",
       "4. 5\n",
       "5. 8\n",
       "6. 3\n",
       "7. 1\n",
       "8. 7\n",
       "\n",
       "\n"
      ],
      "text/plain": [
       "[1]  6  9 10  5  8  3  1  7"
      ]
     },
     "metadata": {},
     "output_type": "display_data"
    }
   ],
   "source": [
    "#denne sample kan ikke have gengangere\n",
    "sample(seq(1,10),8)"
   ]
  },
  {
   "cell_type": "code",
   "execution_count": 135,
   "id": "identified-residence",
   "metadata": {
    "scrolled": true
   },
   "outputs": [
    {
     "data": {
      "text/html": [
       "<ol class=list-inline>\n",
       "\t<li>8</li>\n",
       "\t<li>6</li>\n",
       "\t<li>2</li>\n",
       "\t<li>7</li>\n",
       "\t<li>2</li>\n",
       "\t<li>3</li>\n",
       "\t<li>4</li>\n",
       "\t<li>3</li>\n",
       "\t<li>1</li>\n",
       "\t<li>7</li>\n",
       "</ol>\n"
      ],
      "text/latex": [
       "\\begin{enumerate*}\n",
       "\\item 8\n",
       "\\item 6\n",
       "\\item 2\n",
       "\\item 7\n",
       "\\item 2\n",
       "\\item 3\n",
       "\\item 4\n",
       "\\item 3\n",
       "\\item 1\n",
       "\\item 7\n",
       "\\end{enumerate*}\n"
      ],
      "text/markdown": [
       "1. 8\n",
       "2. 6\n",
       "3. 2\n",
       "4. 7\n",
       "5. 2\n",
       "6. 3\n",
       "7. 4\n",
       "8. 3\n",
       "9. 1\n",
       "10. 7\n",
       "\n",
       "\n"
      ],
      "text/plain": [
       " [1] 8 6 2 7 2 3 4 3 1 7"
      ]
     },
     "metadata": {},
     "output_type": "display_data"
    }
   ],
   "source": [
    "x = 1:10\n",
    "sample(x,replace=TRUE)"
   ]
  },
  {
   "cell_type": "markdown",
   "id": "small-contact",
   "metadata": {},
   "source": [
    "\n",
    "\n",
    "# Equal and Unequal Probabilities of Selection"
   ]
  },
  {
   "cell_type": "markdown",
   "id": "opposite-exclusion",
   "metadata": {},
   "source": [
    "## Lige sandsynlighed for alle udfald:"
   ]
  },
  {
   "cell_type": "markdown",
   "id": "emotional-removal",
   "metadata": {},
   "source": [
    "Vi laver et interval fra 1:10, med lige stor sandsynlighed for at alle værdier bliver trukket.\n",
    "Vi sætter sandsynligheden ved: prob=rep(0.1,10), for værdierne 1:10, og replace=T for at kunne trække den samme værdi flere gange."
   ]
  },
  {
   "cell_type": "code",
   "execution_count": 136,
   "id": "expensive-hobby",
   "metadata": {
    "scrolled": false
   },
   "outputs": [
    {
     "data": {
      "image/png": "[encoded data removed]",
      "text/plain": [
       "plot without title"
      ]
     },
     "metadata": {},
     "output_type": "display_data"
    }
   ],
   "source": [
    "equal_prob = sample(10, 10000, prob=rep(0.1,10), replace=T)\n",
    "qplot(equal_prob, \n",
    "      geom=\"histogram\", \n",
    "      binwidth=0.5, \n",
    "      fill=I(\"blue\"),\n",
    "      ylab=\"Antal\",\n",
    "      xlab=\"Nummer\"\n",
    "      )"
   ]
  },
  {
   "cell_type": "markdown",
   "id": "known-warehouse",
   "metadata": {},
   "source": [
    "## Ulige sandsynlighed for alle udfald:"
   ]
  },
  {
   "cell_type": "markdown",
   "id": "incorporate-third",
   "metadata": {},
   "source": [
    "Vi laver en sample størrelse på 10000, og ændre på sandsynlighederne på udfaldet ved: prob =c(0.1,0.25,0.4,0.25,0.1)\n",
    "\n",
    "Denne gang med intervallet 1:5"
   ]
  },
  {
   "cell_type": "code",
   "execution_count": 137,
   "id": "ongoing-fleece",
   "metadata": {
    "scrolled": false
   },
   "outputs": [
    {
     "data": {
      "image/png": "[encoded data removed]",
      "text/plain": [
       "plot without title"
      ]
     },
     "metadata": {},
     "output_type": "display_data"
    }
   ],
   "source": [
    "unequal_prob = sample(5,10000,prob =c(0.1,0.25,0.4,0.25,0.1), replace=T)\n",
    "qplot(unequal_prob, \n",
    "      geom=\"histogram\", \n",
    "      binwidth=0.3, \n",
    "      fill=I(\"red\"),\n",
    "      ylab=\"Antal\",\n",
    "      xlab=\"Nummer\"\n",
    "      )"
   ]
  },
  {
   "cell_type": "markdown",
   "id": "vietnamese-grammar",
   "metadata": {},
   "source": [
    "# Sample Observations From A Data Frame"
   ]
  },
  {
   "cell_type": "code",
   "execution_count": 138,
   "id": "elegant-clone",
   "metadata": {
    "scrolled": false
   },
   "outputs": [
    {
     "data": {
      "text/html": [
       "<table>\n",
       "<thead><tr><th></th><th scope=col>mpg</th><th scope=col>cyl</th><th scope=col>disp</th><th scope=col>hp</th><th scope=col>drat</th><th scope=col>wt</th><th scope=col>qsec</th><th scope=col>vs</th><th scope=col>am</th><th scope=col>gear</th><th scope=col>carb</th></tr></thead>\n",
       "<tbody>\n",
       "\t<tr><th scope=row>Mazda RX4</th><td>21.0 </td><td>6    </td><td>160  </td><td>110  </td><td>3.90 </td><td>2.620</td><td>16.46</td><td>0    </td><td>1    </td><td>4    </td><td>4    </td></tr>\n",
       "\t<tr><th scope=row>Mazda RX4 Wag</th><td>21.0 </td><td>6    </td><td>160  </td><td>110  </td><td>3.90 </td><td>2.875</td><td>17.02</td><td>0    </td><td>1    </td><td>4    </td><td>4    </td></tr>\n",
       "\t<tr><th scope=row>Datsun 710</th><td>22.8 </td><td>4    </td><td>108  </td><td> 93  </td><td>3.85 </td><td>2.320</td><td>18.61</td><td>1    </td><td>1    </td><td>4    </td><td>1    </td></tr>\n",
       "\t<tr><th scope=row>Hornet 4 Drive</th><td>21.4 </td><td>6    </td><td>258  </td><td>110  </td><td>3.08 </td><td>3.215</td><td>19.44</td><td>1    </td><td>0    </td><td>3    </td><td>1    </td></tr>\n",
       "\t<tr><th scope=row>Hornet Sportabout</th><td>18.7 </td><td>8    </td><td>360  </td><td>175  </td><td>3.15 </td><td>3.440</td><td>17.02</td><td>0    </td><td>0    </td><td>3    </td><td>2    </td></tr>\n",
       "\t<tr><th scope=row>Valiant</th><td>18.1 </td><td>6    </td><td>225  </td><td>105  </td><td>2.76 </td><td>3.460</td><td>20.22</td><td>1    </td><td>0    </td><td>3    </td><td>1    </td></tr>\n",
       "</tbody>\n",
       "</table>\n"
      ],
      "text/latex": [
       "\\begin{tabular}{r|lllllllllll}\n",
       "  & mpg & cyl & disp & hp & drat & wt & qsec & vs & am & gear & carb\\\\\n",
       "\\hline\n",
       "\tMazda RX4 & 21.0  & 6     & 160   & 110   & 3.90  & 2.620 & 16.46 & 0     & 1     & 4     & 4    \\\\\n",
       "\tMazda RX4 Wag & 21.0  & 6     & 160   & 110   & 3.90  & 2.875 & 17.02 & 0     & 1     & 4     & 4    \\\\\n",
       "\tDatsun 710 & 22.8  & 4     & 108   &  93   & 3.85  & 2.320 & 18.61 & 1     & 1     & 4     & 1    \\\\\n",
       "\tHornet 4 Drive & 21.4  & 6     & 258   & 110   & 3.08  & 3.215 & 19.44 & 1     & 0     & 3     & 1    \\\\\n",
       "\tHornet Sportabout & 18.7  & 8     & 360   & 175   & 3.15  & 3.440 & 17.02 & 0     & 0     & 3     & 2    \\\\\n",
       "\tValiant & 18.1  & 6     & 225   & 105   & 2.76  & 3.460 & 20.22 & 1     & 0     & 3     & 1    \\\\\n",
       "\\end{tabular}\n"
      ],
      "text/markdown": [
       "\n",
       "| <!--/--> | mpg | cyl | disp | hp | drat | wt | qsec | vs | am | gear | carb |\n",
       "|---|---|---|---|---|---|---|---|---|---|---|---|\n",
       "| Mazda RX4 | 21.0  | 6     | 160   | 110   | 3.90  | 2.620 | 16.46 | 0     | 1     | 4     | 4     |\n",
       "| Mazda RX4 Wag | 21.0  | 6     | 160   | 110   | 3.90  | 2.875 | 17.02 | 0     | 1     | 4     | 4     |\n",
       "| Datsun 710 | 22.8  | 4     | 108   |  93   | 3.85  | 2.320 | 18.61 | 1     | 1     | 4     | 1     |\n",
       "| Hornet 4 Drive | 21.4  | 6     | 258   | 110   | 3.08  | 3.215 | 19.44 | 1     | 0     | 3     | 1     |\n",
       "| Hornet Sportabout | 18.7  | 8     | 360   | 175   | 3.15  | 3.440 | 17.02 | 0     | 0     | 3     | 2     |\n",
       "| Valiant | 18.1  | 6     | 225   | 105   | 2.76  | 3.460 | 20.22 | 1     | 0     | 3     | 1     |\n",
       "\n"
      ],
      "text/plain": [
       "                  mpg  cyl disp hp  drat wt    qsec  vs am gear carb\n",
       "Mazda RX4         21.0 6   160  110 3.90 2.620 16.46 0  1  4    4   \n",
       "Mazda RX4 Wag     21.0 6   160  110 3.90 2.875 17.02 0  1  4    4   \n",
       "Datsun 710        22.8 4   108   93 3.85 2.320 18.61 1  1  4    1   \n",
       "Hornet 4 Drive    21.4 6   258  110 3.08 3.215 19.44 1  0  3    1   \n",
       "Hornet Sportabout 18.7 8   360  175 3.15 3.440 17.02 0  0  3    2   \n",
       "Valiant           18.1 6   225  105 2.76 3.460 20.22 1  0  3    1   "
      ]
     },
     "metadata": {},
     "output_type": "display_data"
    }
   ],
   "source": [
    "head(mtcars)"
   ]
  },
  {
   "cell_type": "code",
   "execution_count": 139,
   "id": "rough-mobile",
   "metadata": {
    "scrolled": true
   },
   "outputs": [
    {
     "data": {
      "text/html": [
       "<table>\n",
       "<thead><tr><th></th><th scope=col>mpg</th><th scope=col>cyl</th><th scope=col>disp</th><th scope=col>hp</th><th scope=col>drat</th><th scope=col>wt</th><th scope=col>qsec</th><th scope=col>vs</th><th scope=col>am</th><th scope=col>gear</th><th scope=col>carb</th></tr></thead>\n",
       "<tbody>\n",
       "\t<tr><th scope=row>Mazda RX4 Wag</th><td>21.0 </td><td>6    </td><td>160.0</td><td>110  </td><td>3.90 </td><td>2.875</td><td>17.02</td><td>0    </td><td>1    </td><td>4    </td><td>4    </td></tr>\n",
       "\t<tr><th scope=row>Fiat X1-9</th><td>27.3 </td><td>4    </td><td> 79.0</td><td> 66  </td><td>4.08 </td><td>1.935</td><td>18.90</td><td>1    </td><td>1    </td><td>4    </td><td>1    </td></tr>\n",
       "\t<tr><th scope=row>Lincoln Continental</th><td>10.4 </td><td>8    </td><td>460.0</td><td>215  </td><td>3.00 </td><td>5.424</td><td>17.82</td><td>0    </td><td>0    </td><td>3    </td><td>4    </td></tr>\n",
       "\t<tr><th scope=row>AMC Javelin</th><td>15.2 </td><td>8    </td><td>304.0</td><td>150  </td><td>3.15 </td><td>3.435</td><td>17.30</td><td>0    </td><td>0    </td><td>3    </td><td>2    </td></tr>\n",
       "\t<tr><th scope=row>Porsche 914-2</th><td>26.0 </td><td>4    </td><td>120.3</td><td> 91  </td><td>4.43 </td><td>2.140</td><td>16.70</td><td>0    </td><td>1    </td><td>5    </td><td>2    </td></tr>\n",
       "\t<tr><th scope=row>Merc 450SLC</th><td>15.2 </td><td>8    </td><td>275.8</td><td>180  </td><td>3.07 </td><td>3.780</td><td>18.00</td><td>0    </td><td>0    </td><td>3    </td><td>3    </td></tr>\n",
       "\t<tr><th scope=row>Hornet Sportabout</th><td>18.7 </td><td>8    </td><td>360.0</td><td>175  </td><td>3.15 </td><td>3.440</td><td>17.02</td><td>0    </td><td>0    </td><td>3    </td><td>2    </td></tr>\n",
       "\t<tr><th scope=row>Maserati Bora</th><td>15.0 </td><td>8    </td><td>301.0</td><td>335  </td><td>3.54 </td><td>3.570</td><td>14.60</td><td>0    </td><td>1    </td><td>5    </td><td>8    </td></tr>\n",
       "\t<tr><th scope=row>Volvo 142E</th><td>21.4 </td><td>4    </td><td>121.0</td><td>109  </td><td>4.11 </td><td>2.780</td><td>18.60</td><td>1    </td><td>1    </td><td>4    </td><td>2    </td></tr>\n",
       "\t<tr><th scope=row>Merc 240D</th><td>24.4 </td><td>4    </td><td>146.7</td><td> 62  </td><td>3.69 </td><td>3.190</td><td>20.00</td><td>1    </td><td>0    </td><td>4    </td><td>2    </td></tr>\n",
       "</tbody>\n",
       "</table>\n"
      ],
      "text/latex": [
       "\\begin{tabular}{r|lllllllllll}\n",
       "  & mpg & cyl & disp & hp & drat & wt & qsec & vs & am & gear & carb\\\\\n",
       "\\hline\n",
       "\tMazda RX4 Wag & 21.0  & 6     & 160.0 & 110   & 3.90  & 2.875 & 17.02 & 0     & 1     & 4     & 4    \\\\\n",
       "\tFiat X1-9 & 27.3  & 4     &  79.0 &  66   & 4.08  & 1.935 & 18.90 & 1     & 1     & 4     & 1    \\\\\n",
       "\tLincoln Continental & 10.4  & 8     & 460.0 & 215   & 3.00  & 5.424 & 17.82 & 0     & 0     & 3     & 4    \\\\\n",
       "\tAMC Javelin & 15.2  & 8     & 304.0 & 150   & 3.15  & 3.435 & 17.30 & 0     & 0     & 3     & 2    \\\\\n",
       "\tPorsche 914-2 & 26.0  & 4     & 120.3 &  91   & 4.43  & 2.140 & 16.70 & 0     & 1     & 5     & 2    \\\\\n",
       "\tMerc 450SLC & 15.2  & 8     & 275.8 & 180   & 3.07  & 3.780 & 18.00 & 0     & 0     & 3     & 3    \\\\\n",
       "\tHornet Sportabout & 18.7  & 8     & 360.0 & 175   & 3.15  & 3.440 & 17.02 & 0     & 0     & 3     & 2    \\\\\n",
       "\tMaserati Bora & 15.0  & 8     & 301.0 & 335   & 3.54  & 3.570 & 14.60 & 0     & 1     & 5     & 8    \\\\\n",
       "\tVolvo 142E & 21.4  & 4     & 121.0 & 109   & 4.11  & 2.780 & 18.60 & 1     & 1     & 4     & 2    \\\\\n",
       "\tMerc 240D & 24.4  & 4     & 146.7 &  62   & 3.69  & 3.190 & 20.00 & 1     & 0     & 4     & 2    \\\\\n",
       "\\end{tabular}\n"
      ],
      "text/markdown": [
       "\n",
       "| <!--/--> | mpg | cyl | disp | hp | drat | wt | qsec | vs | am | gear | carb |\n",
       "|---|---|---|---|---|---|---|---|---|---|---|---|\n",
       "| Mazda RX4 Wag | 21.0  | 6     | 160.0 | 110   | 3.90  | 2.875 | 17.02 | 0     | 1     | 4     | 4     |\n",
       "| Fiat X1-9 | 27.3  | 4     |  79.0 |  66   | 4.08  | 1.935 | 18.90 | 1     | 1     | 4     | 1     |\n",
       "| Lincoln Continental | 10.4  | 8     | 460.0 | 215   | 3.00  | 5.424 | 17.82 | 0     | 0     | 3     | 4     |\n",
       "| AMC Javelin | 15.2  | 8     | 304.0 | 150   | 3.15  | 3.435 | 17.30 | 0     | 0     | 3     | 2     |\n",
       "| Porsche 914-2 | 26.0  | 4     | 120.3 |  91   | 4.43  | 2.140 | 16.70 | 0     | 1     | 5     | 2     |\n",
       "| Merc 450SLC | 15.2  | 8     | 275.8 | 180   | 3.07  | 3.780 | 18.00 | 0     | 0     | 3     | 3     |\n",
       "| Hornet Sportabout | 18.7  | 8     | 360.0 | 175   | 3.15  | 3.440 | 17.02 | 0     | 0     | 3     | 2     |\n",
       "| Maserati Bora | 15.0  | 8     | 301.0 | 335   | 3.54  | 3.570 | 14.60 | 0     | 1     | 5     | 8     |\n",
       "| Volvo 142E | 21.4  | 4     | 121.0 | 109   | 4.11  | 2.780 | 18.60 | 1     | 1     | 4     | 2     |\n",
       "| Merc 240D | 24.4  | 4     | 146.7 |  62   | 3.69  | 3.190 | 20.00 | 1     | 0     | 4     | 2     |\n",
       "\n"
      ],
      "text/plain": [
       "                    mpg  cyl disp  hp  drat wt    qsec  vs am gear carb\n",
       "Mazda RX4 Wag       21.0 6   160.0 110 3.90 2.875 17.02 0  1  4    4   \n",
       "Fiat X1-9           27.3 4    79.0  66 4.08 1.935 18.90 1  1  4    1   \n",
       "Lincoln Continental 10.4 8   460.0 215 3.00 5.424 17.82 0  0  3    4   \n",
       "AMC Javelin         15.2 8   304.0 150 3.15 3.435 17.30 0  0  3    2   \n",
       "Porsche 914-2       26.0 4   120.3  91 4.43 2.140 16.70 0  1  5    2   \n",
       "Merc 450SLC         15.2 8   275.8 180 3.07 3.780 18.00 0  0  3    3   \n",
       "Hornet Sportabout   18.7 8   360.0 175 3.15 3.440 17.02 0  0  3    2   \n",
       "Maserati Bora       15.0 8   301.0 335 3.54 3.570 14.60 0  1  5    8   \n",
       "Volvo 142E          21.4 4   121.0 109 4.11 2.780 18.60 1  1  4    2   \n",
       "Merc 240D           24.4 4   146.7  62 3.69 3.190 20.00 1  0  4    2   "
      ]
     },
     "metadata": {},
     "output_type": "display_data"
    }
   ],
   "source": [
    "# step 1: create an index vector for the elements/rows \n",
    "index <- seq_len(nrow(mtcars))\n",
    " \n",
    "# step 2: sample the index vector\n",
    "set.seed(12)\n",
    "#to obtain a set random sample of 10\n",
    "sample_index <- sample(index,10)\n",
    "# step 3: to show the sampled elements/rows \n",
    "mtcars[sample_index,]"
   ]
  },
  {
   "cell_type": "markdown",
   "id": "baking-pillow",
   "metadata": {},
   "source": []
  },
  {
   "cell_type": "markdown",
   "id": "visible-drama",
   "metadata": {},
   "source": []
  },
  {
   "cell_type": "markdown",
   "id": "elegant-grammar",
   "metadata": {},
   "source": [
    "# Opgaver"
   ]
  },
  {
   "cell_type": "markdown",
   "id": "southern-enhancement",
   "metadata": {},
   "source": [
    "#### Question 1: \n",
    "\n",
    "There are three 6-sided dices. If you roll them together, what is the probability of rolling a 7?"
   ]
  },
  {
   "cell_type": "code",
   "execution_count": 8,
   "id": "particular-anime",
   "metadata": {},
   "outputs": [
    {
     "data": {
      "text/html": [
       "0.07117"
      ],
      "text/latex": [
       "0.07117"
      ],
      "text/markdown": [
       "0.07117"
      ],
      "text/plain": [
       "[1] 0.07117"
      ]
     },
     "metadata": {},
     "output_type": "display_data"
    }
   ],
   "source": [
    "die = 1:6\n",
    "# sample 100000 times with replacements for dice 1\n",
    "die1 = sample(die, 100000, replace=TRUE)\n",
    "\n",
    "# sample 10000 times with replacements for dice 2\n",
    "die2= sample(die, 100000, replace=TRUE)\n",
    "\n",
    "# sample 10000 times with replacements for dice 3\n",
    "die3= sample(die, 100000, replace=TRUE)\n",
    "\n",
    "# the combined value of die_1 and die_2 \n",
    "outcome = die1+die2+die3\n",
    "\n",
    "# the probability of getting a 7\n",
    "mean(outcome == 7)"
   ]
  },
  {
   "cell_type": "markdown",
   "id": "patient-walnut",
   "metadata": {},
   "source": []
  },
  {
   "cell_type": "markdown",
   "id": "fabulous-refrigerator",
   "metadata": {},
   "source": [
    "#### Question 2: \n",
    "\n",
    "You have two dice. What is the probability of rolling a 2, 3, 4, 5, 6, 7, 8, 9, 10, 11, 12, and 13?"
   ]
  },
  {
   "cell_type": "markdown",
   "id": "unnecessary-phone",
   "metadata": {},
   "source": [
    "According to R documentation, sapply() function is a “user-friendly version and wrapper of lapply by default returning a vector, matrix or, if simplify = \"array\", an array if appropriate, by applying simplify2array(). sapply(x, f, simplify = FALSE, USE.NAMES = FALSE) is the same as lapply(x, f).”"
   ]
  },
  {
   "cell_type": "code",
   "execution_count": 7,
   "id": "hidden-retrieval",
   "metadata": {},
   "outputs": [
    {
     "data": {
      "text/html": [
       "<ol class=list-inline>\n",
       "\t<li>0.02791</li>\n",
       "\t<li>0.05517</li>\n",
       "\t<li>0.08356</li>\n",
       "\t<li>0.1123</li>\n",
       "\t<li>0.13832</li>\n",
       "\t<li>0.16557</li>\n",
       "\t<li>0.1398</li>\n",
       "\t<li>0.11285</li>\n",
       "\t<li>0.08305</li>\n",
       "\t<li>0.05481</li>\n",
       "\t<li>0.02666</li>\n",
       "\t<li>0</li>\n",
       "</ol>\n"
      ],
      "text/latex": [
       "\\begin{enumerate*}\n",
       "\\item 0.02791\n",
       "\\item 0.05517\n",
       "\\item 0.08356\n",
       "\\item 0.1123\n",
       "\\item 0.13832\n",
       "\\item 0.16557\n",
       "\\item 0.1398\n",
       "\\item 0.11285\n",
       "\\item 0.08305\n",
       "\\item 0.05481\n",
       "\\item 0.02666\n",
       "\\item 0\n",
       "\\end{enumerate*}\n"
      ],
      "text/markdown": [
       "1. 0.02791\n",
       "2. 0.05517\n",
       "3. 0.08356\n",
       "4. 0.1123\n",
       "5. 0.13832\n",
       "6. 0.16557\n",
       "7. 0.1398\n",
       "8. 0.11285\n",
       "9. 0.08305\n",
       "10. 0.05481\n",
       "11. 0.02666\n",
       "12. 0\n",
       "\n",
       "\n"
      ],
      "text/plain": [
       " [1] 0.02791 0.05517 0.08356 0.11230 0.13832 0.16557 0.13980 0.11285 0.08305\n",
       "[10] 0.05481 0.02666 0.00000"
      ]
     },
     "metadata": {},
     "output_type": "display_data"
    }
   ],
   "source": [
    "sapply(2:13,function(x) mean(outcomes==x))"
   ]
  },
  {
   "cell_type": "markdown",
   "id": "fresh-courtesy",
   "metadata": {},
   "source": [
    "Vi bruger altså sapply som sapply(x, f), hvor x er intervallet og funktionen f er mean(outcomes == x)"
   ]
  },
  {
   "cell_type": "markdown",
   "id": "unique-whole",
   "metadata": {},
   "source": []
  },
  {
   "cell_type": "markdown",
   "id": "coupled-equivalent",
   "metadata": {},
   "source": [
    "Question 3: Generate a random sample of 10000 values, and how many unique observations are included? How many are not included?"
   ]
  },
  {
   "cell_type": "markdown",
   "id": "affected-halifax",
   "metadata": {},
   "source": [
    "Vi bruger unique() til at finde forskellige observationer, og length() til at tælle dem."
   ]
  },
  {
   "cell_type": "code",
   "execution_count": 14,
   "id": "extreme-baking",
   "metadata": {},
   "outputs": [
    {
     "data": {
      "text/html": [
       "6298"
      ],
      "text/latex": [
       "6298"
      ],
      "text/markdown": [
       "6298"
      ],
      "text/plain": [
       "[1] 6298"
      ]
     },
     "metadata": {},
     "output_type": "display_data"
    },
    {
     "data": {
      "text/html": [
       "3702"
      ],
      "text/latex": [
       "3702"
      ],
      "text/markdown": [
       "3702"
      ],
      "text/plain": [
       "[1] 3702"
      ]
     },
     "metadata": {},
     "output_type": "display_data"
    }
   ],
   "source": [
    "n=10000\n",
    "observasions = length(unique(sample(1:n, replace=TRUE)))\n",
    "observasions\n",
    "missing_obs = n-observasions\n",
    "missing_obs"
   ]
  },
  {
   "cell_type": "markdown",
   "id": "pregnant-franchise",
   "metadata": {},
   "source": []
  },
  {
   "cell_type": "markdown",
   "id": "intensive-association",
   "metadata": {},
   "source": [
    "#### Question 5: \n",
    "\n",
    "Flip a coin 10 times and simulate the process for 10,000 times. Show the distribution of the number of heads shown up."
   ]
  },
  {
   "cell_type": "code",
   "execution_count": 15,
   "id": "cordless-asbestos",
   "metadata": {
    "scrolled": true
   },
   "outputs": [
    {
     "data": {
      "image/png": "[encoded data removed]",
      "text/plain": [
       "Plot with title \"Histogram of total_heads\""
      ]
     },
     "metadata": {},
     "output_type": "display_data"
    }
   ],
   "source": [
    "# create an empty list \n",
    "total_heads = c()\n",
    "\n",
    "# use a for loop to simulate coin-flipping 10 times \n",
    "# repeat it for 10,000 times\n",
    "for (i in 1:10000){\n",
    " sum_heads = sum(round(runif(10,0,1)))\n",
    " total_heads = c(total_heads, sum_heads)\n",
    " }\n",
    "hist(total_heads)"
   ]
  },
  {
   "cell_type": "markdown",
   "id": "cooked-fever",
   "metadata": {},
   "source": [
    "I R skal vi give et interval i \"for i in\". Dvs: for(i in 1:1000). \n",
    "\n",
    "##### sum(round(runif(10,0,1))) brydes ned i tre funktioner:\n",
    "\n",
    "##### runif() \n",
    "runif() bruges som: runif(n, min = 0, max = 1), og giver tilfældige værdier i invtervallet 0:1, dokumentation https://stat.ethz.ch/R-manual/R-devel/library/stats/html/Uniform.html\n",
    "\n",
    "##### round()\n",
    "runder tallene op eller ned\n",
    "\n",
    "##### sum()\n",
    "summere antal gange \"heads\" får et udfald i samplen\n",
    "\n",
    "\n",
    "total_heads = c(total_heads, sum_heads). Since total_heads is an empty list in the beginning, we use the line of code to assign the value of sum_heads to total_heads."
   ]
  }
 ],
 "metadata": {
  "kernelspec": {
   "display_name": "R",
   "language": "R",
   "name": "ir"
  },
  "language_info": {
   "codemirror_mode": "r",
   "file_extension": ".r",
   "mimetype": "text/x-r-source",
   "name": "R",
   "pygments_lexer": "r",
   "version": "3.6.1"
  }
 },
 "nbformat": 4,
 "nbformat_minor": 5
}
